{
 "cells": [
  {
   "cell_type": "code",
   "execution_count": 3,
   "id": "a65be1c6-bc8c-4ed5-8273-a8b1c17edb38",
   "metadata": {},
   "outputs": [
    {
     "name": "stdout",
     "output_type": "stream",
     "text": [
      "Saving dataset examples visualization to 'dataset_examples.png'...\n",
      "Starting model training...\n",
      "Starting model training with Attention ResU-Net...\n"
     ]
    },
    {
     "name": "stderr",
     "output_type": "stream",
     "text": [
      "Epoch 1/100 [Train]: 100%|███████████████████████████████████████████████████████████| 352/352 [01:34<00:00,  3.71it/s]\n",
      "Epoch 1/100 [Val]  :   0%|                                                                      | 0/40 [00:06<?, ?it/s]\n"
     ]
    },
    {
     "ename": "AttributeError",
     "evalue": "'list' object has no attribute 'to'",
     "output_type": "error",
     "traceback": [
      "\u001b[31m---------------------------------------------------------------------------\u001b[39m",
      "\u001b[31mAttributeError\u001b[39m                            Traceback (most recent call last)",
      "\u001b[36mCell\u001b[39m\u001b[36m \u001b[39m\u001b[32mIn[3]\u001b[39m\u001b[32m, line 23\u001b[39m\n\u001b[32m     21\u001b[39m model = UNet().to(device)\n\u001b[32m     22\u001b[39m \u001b[38;5;66;03m# 训练模型\u001b[39;00m\n\u001b[32m---> \u001b[39m\u001b[32m23\u001b[39m \u001b[43mtrain\u001b[49m\u001b[43m(\u001b[49m\u001b[43mmodel\u001b[49m\u001b[43m,\u001b[49m\u001b[43m \u001b[49m\u001b[43mdevice\u001b[49m\u001b[43m,\u001b[49m\u001b[43m \u001b[49m\u001b[43mnum_epochs\u001b[49m\u001b[43m,\u001b[49m\u001b[43m \u001b[49m\u001b[43mlearning_rate\u001b[49m\u001b[43m,\u001b[49m\u001b[43m \u001b[49m\u001b[43mtrain_loader\u001b[49m\u001b[43m,\u001b[49m\u001b[43m \u001b[49m\u001b[43mval_loader\u001b[49m\u001b[43m)\u001b[49m\n\u001b[32m     24\u001b[39m \u001b[38;5;66;03m# 验证模型\u001b[39;00m\n\u001b[32m     25\u001b[39m model.eval()\n",
      "\u001b[36mFile \u001b[39m\u001b[32m~\\机器学习大作业图像去噪\\train.py:44\u001b[39m, in \u001b[36mtrain\u001b[39m\u001b[34m(model, device, num_epochs, learning_rate, train_loader, val_loader)\u001b[39m\n\u001b[32m     40\u001b[39m \u001b[38;5;28;01mwith\u001b[39;00m torch.no_grad():\n\u001b[32m     41\u001b[39m     \u001b[38;5;28;01mfor\u001b[39;00m noisy \u001b[38;5;129;01min\u001b[39;00m tqdm(\n\u001b[32m     42\u001b[39m         val_loader, desc=\u001b[33mf\u001b[39m\u001b[33m\"\u001b[39m\u001b[33mEpoch \u001b[39m\u001b[38;5;132;01m{\u001b[39;00mepoch+\u001b[32m1\u001b[39m\u001b[38;5;132;01m}\u001b[39;00m\u001b[33m/\u001b[39m\u001b[38;5;132;01m{\u001b[39;00mnum_epochs\u001b[38;5;132;01m}\u001b[39;00m\u001b[33m [Val]  \u001b[39m\u001b[33m\"\u001b[39m\n\u001b[32m     43\u001b[39m     ):\n\u001b[32m---> \u001b[39m\u001b[32m44\u001b[39m         noisy = \u001b[43mnoisy\u001b[49m\u001b[43m.\u001b[49m\u001b[43mto\u001b[49m(device)\n\u001b[32m     45\u001b[39m         outputs = model(noisy)\n\u001b[32m     46\u001b[39m         \u001b[38;5;66;03m# val_loss += criterion(outputs, origin).item()\u001b[39;00m\n",
      "\u001b[31mAttributeError\u001b[39m: 'list' object has no attribute 'to'"
     ]
    }
   ],
   "source": [
    "import os\n",
    "import torch\n",
    "import pandas as pd\n",
    "from train import train\n",
    "from inference import inference\n",
    "from dataset import dataloader\n",
    "from model import UNet\n",
    "from visual import visual_dataset, visual_results\n",
    "\n",
    "batch_size = 128\n",
    "learning_rate = 0.001\n",
    "num_epochs = 100\n",
    "cuda = 0\n",
    "device = torch.device(f\"cuda:{cuda}\" if torch.cuda.is_available() else \"cpu\")\n",
    "\n",
    "if __name__ == \"__main__\":\n",
    "    train_loader, val_loader, test_loader = dataloader(batch_size)\n",
    "    print(\"Saving dataset examples visualization to 'dataset_examples.png'...\")\n",
    "    visual_dataset(train_loader)\n",
    "    print(\"Starting model training...\")\n",
    "    model = UNet().to(device)\n",
    "    # 训练模型\n",
    "    train(model, device, num_epochs, learning_rate, train_loader, val_loader)\n",
    "    # 验证模型\n",
    "    model.eval()\n",
    "    example_noisy, example_output, submission_data = inference(\n",
    "        model,\n",
    "        device,\n",
    "        test_loader,\n",
    "        batch_size,\n",
    "    )\n",
    "    os.makedirs(\"result\", exist_ok=True)\n",
    "    submission_df = pd.DataFrame(submission_data)\n",
    "    submission_df.to_csv(\"./result/submission.csv\", index=False)\n",
    "    print(\"submission.csv saved successfully.\")\n",
    "    print(\"Saving denoising results visualization to 'denoising_results.png'...\")\n",
    "    visual_results(example_noisy, example_output)\n",
    "    print(\"Script execution complete.\")\n"
   ]
  },
  {
   "cell_type": "code",
   "execution_count": null,
   "id": "284208e3-23e0-43a2-8a9e-bfd0cd853708",
   "metadata": {},
   "outputs": [],
   "source": []
  }
 ],
 "metadata": {
  "kernelspec": {
   "display_name": "Python 3 (ipykernel)",
   "language": "python",
   "name": "python3"
  },
  "language_info": {
   "codemirror_mode": {
    "name": "ipython",
    "version": 3
   },
   "file_extension": ".py",
   "mimetype": "text/x-python",
   "name": "python",
   "nbconvert_exporter": "python",
   "pygments_lexer": "ipython3",
   "version": "3.13.2"
  }
 },
 "nbformat": 4,
 "nbformat_minor": 5
}
