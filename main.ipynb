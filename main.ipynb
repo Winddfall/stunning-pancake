{
 "cells": [
  {
   "cell_type": "code",
   "execution_count": null,
   "id": "a65be1c6-bc8c-4ed5-8273-a8b1c17edb38",
   "metadata": {},
   "outputs": [
    {
     "name": "stdout",
     "output_type": "stream",
     "text": [
      "...\n"
     ]
    },
    {
     "name": "stderr",
     "output_type": "stream",
     "text": [
      "Data Augmentation: 100%|████████████████████████████████████████████████████████| 50000/50000 [06:06<00:00, 136.40it/s]\n"
     ]
    },
    {
     "name": "stdout",
     "output_type": "stream",
     "text": [
      "Saving dataset examples visualization to 'dataset_examples.png'...\n",
      "Starting model training...\n",
      "Starting model training with Attention ResU-Net...\n"
     ]
    },
    {
     "name": "stderr",
     "output_type": "stream",
     "text": [
      "Epoch 1/50 [Train]: 100%|████████████████████████████████████████████████████████████| 352/352 [01:38<00:00,  3.56it/s]\n",
      "Epoch 1/50 [Val]  : 100%|██████████████████████████████████████████████████████████████| 40/40 [00:15<00:00,  2.54it/s]\n"
     ]
    },
    {
     "name": "stdout",
     "output_type": "stream",
     "text": [
      "Epoch [1/50] | Train Loss: 0.1741 | Val PSNR: 27.89 | Val SSIM: 0.9621 | Val Score: 8.8688 | LR: 0.001000\n",
      "🎉 New best model saved with score: 8.8688\n"
     ]
    },
    {
     "name": "stderr",
     "output_type": "stream",
     "text": [
      "Epoch 2/50 [Train]: 100%|████████████████████████████████████████████████████████████| 352/352 [01:41<00:00,  3.47it/s]\n",
      "Epoch 2/50 [Val]  : 100%|██████████████████████████████████████████████████████████████| 40/40 [00:53<00:00,  1.34s/it]\n"
     ]
    },
    {
     "name": "stdout",
     "output_type": "stream",
     "text": [
      "Epoch [2/50] | Train Loss: 0.0846 | Val PSNR: 29.57 | Val SSIM: 0.9708 | Val Score: 9.4468 | LR: 0.001000\n",
      "🎉 New best model saved with score: 9.4468\n"
     ]
    },
    {
     "name": "stderr",
     "output_type": "stream",
     "text": [
      "Epoch 3/50 [Train]:  13%|████████▏                                                    | 47/352 [01:11<05:58,  1.18s/it]"
     ]
    }
   ],
   "source": [
    "import os\n",
    "import torch\n",
    "import pandas as pd\n",
    "from train import train\n",
    "from inference import inference\n",
    "from dataset import dataloader\n",
    "from model import create_ori_unet\n",
    "from visual import visual_dataset, visual_results\n",
    "\n",
    "batch_size = 256\n",
    "learning_rate = 0.001\n",
    "num_epochs = 50\n",
    "cuda = 0\n",
    "device = torch.device(f\"cuda:{cuda}\" if torch.cuda.is_available() else \"cpu\")\n",
    "\n",
    "if __name__ == \"__main__\":\n",
    "    print(\"...\")\n",
    "    train_loader, val_loader, test_loader = dataloader(batch_size)\n",
    "    print(\"Saving dataset examples visualization to 'dataset_examples.png'...\")\n",
    "    visual_dataset(train_loader)\n",
    "    print(\"Starting model training...\")\n",
    "    model = create_ori_unet(device)\n",
    "    # 训练模型\n",
    "    train(model, device, num_epochs, learning_rate, train_loader, val_loader)\n",
    "    # 验证模型\n",
    "    model.eval()\n",
    "    example_noisy, example_output, submission_data = inference(\n",
    "        model,\n",
    "        device,\n",
    "        test_loader,\n",
    "        batch_size,\n",
    "    )\n",
    "    os.makedirs(\"result\", exist_ok=True)\n",
    "    submission_df = pd.DataFrame(submission_data)\n",
    "    submission_df.to_csv(\"./result/submission.csv\", index=False)\n",
    "    print(\"submission.csv saved successfully.\")\n",
    "    print(\"Saving denoising results visualization to 'denoising_results.png'...\")\n",
    "    visual_results(example_noisy, example_output)\n",
    "    print(\"Script execution complete.