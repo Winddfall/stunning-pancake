{
 "cells": [
  {
   "cell_type": "code",
   "execution_count": 2,
   "id": "a65be1c6-bc8c-4ed5-8273-a8b1c17edb38",
   "metadata": {},
   "outputs": [
    {
     "name": "stdout",
     "output_type": "stream",
     "text": [
      "Saving dataset examples visualization to 'dataset_examples.png'...\n",
      "Starting model training...\n",
      "Starting model training with Attention ResU-Net...\n"
     ]
    },
    {
     "name": "stderr",
     "output_type": "stream",
     "text": [
      "Epoch 1/30 [Train]: 100%|████████████████████████████████████████████████████████████| 383/383 [00:19<00:00, 19.39it/s]\n",
      "Epoch 1/30 [Val]  : 100%|████████████████████████████████████████████████████████████████| 8/8 [00:08<00:00,  1.03s/it]\n"
     ]
    },
    {
     "name": "stdout",
     "output_type": "stream",
     "text": [
      "Epoch [1/30] | Train Loss: 0.1730 | Val PSNR: 30.18 | Val SSIM: 0.9361 | Val Score: 0.9091 | LR: 0.001000\n",
      "🎉 New best model saved with score: 0.9091\n"
     ]
    },
    {
     "name": "stderr",
     "output_type": "stream",
     "text": [
      "Epoch 2/30 [Train]: 100%|████████████████████████████████████████████████████████████| 383/383 [00:19<00:00, 19.29it/s]\n",
      "Epoch 2/30 [Val]  : 100%|████████████████████████████████████████████████████████████████| 8/8 [00:08<00:00,  1.09s/it]\n"
     ]
    },
    {
     "name": "stdout",
     "output_type": "stream",
     "text": [
      "Epoch [2/30] | Train Loss: 0.0591 | Val PSNR: 32.48 | Val SSIM: 0.9724 | Val Score: 1.0248 | LR: 0.001000\n",
      "🎉 New best model saved with score: 1.0248\n"
     ]
    },
    {
     "name": "stderr",
     "output_type": "stream",
     "text": [
      "Epoch 3/30 [Train]: 100%|████████████████████████████████████████████████████████████| 383/383 [00:19<00:00, 19.57it/s]\n",
      "Epoch 3/30 [Val]  : 100%|████████████████████████████████████████████████████████████████| 8/8 [00:08<00:00,  1.08s/it]\n"
     ]
    },
    {
     "name": "stdout",
     "output_type": "stream",
     "text": [
      "Epoch [3/30] | Train Loss: 0.0534 | Val PSNR: 33.90 | Val SSIM: 0.9822 | Val Score: 1.0773 | LR: 0.001000\n",
      "🎉 New best model saved with score: 1.0773\n"
     ]
    },
    {
     "name": "stderr",
     "output_type": "stream",
     "text": [
      "Epoch 4/30 [Train]: 100%|████████████████████████████████████████████████████████████| 383/383 [00:19<00:00, 19.40it/s]\n",
      "Epoch 4/30 [Val]  : 100%|████████████████████████████████████████████████████████████████| 8/8 [00:08<00:00,  1.10s/it]\n"
     ]
    },
    {
     "name": "stdout",
     "output_type": "stream",
     "text": [
      "Epoch [4/30] | Train Loss: 0.0508 | Val PSNR: 34.11 | Val SSIM: 0.9819 | Val Score: 1.0825 | LR: 0.001000\n",
      "🎉 New best model saved with score: 1.0825\n"
     ]
    },
    {
     "name": "stderr",
     "output_type": "stream",
     "text": [
      "Epoch 5/30 [Train]: 100%|████████████████████████████████████████████████████████████| 383/383 [00:19<00:00, 19.48it/s]\n",
      "Epoch 5/30 [Val]  : 100%|████████████████████████████████████████████████████████████████| 8/8 [00:08<00:00,  1.08s/it]\n"
     ]
    },
    {
     "name": "stdout",
     "output_type": "stream",
     "text": [
      "Epoch [5/30] | Train Loss: 0.0494 | Val PSNR: 34.33 | Val SSIM: 0.9827 | Val Score: 1.0895 | LR: 0.001000\n",
      "🎉 New best model saved with score: 1.0895\n"
     ]
    },
    {
     "name": "stderr",
     "output_type": "stream",
     "text": [
      "Epoch 6/30 [Train]: 100%|████████████████████████████████████████████████████████████| 383/383 [00:19<00:00, 19.17it/s]\n",
      "Epoch 6/30 [Val]  : 100%|████████████████████████████████████████████████████████████████| 8/8 [00:08<00:00,  1.10s/it]\n"
     ]
    },
    {
     "name": "stdout",
     "output_type": "stream",
     "text": [
      "Epoch [6/30] | Train Loss: 0.0481 | Val PSNR: 34.55 | Val SSIM: 0.9835 | Val Score: 1.0966 | LR: 0.001000\n",
      "🎉 New best model saved with score: 1.0966\n"
     ]
    },
    {
     "name": "stderr",
     "output_type": "stream",
     "text": [
      "Epoch 7/30 [Train]: 100%|████████████████████████████████████████████████████████████| 383/383 [00:19<00:00, 19.42it/s]\n",
      "Epoch 7/30 [Val]  : 100%|████████████████████████████████████████████████████████████████| 8/8 [00:08<00:00,  1.08s/it]\n"
     ]
    },
    {
     "name": "stdout",
     "output_type": "stream",
     "text": [
      "Epoch [7/30] | Train Loss: 0.0478 | Val PSNR: 34.10 | Val SSIM: 0.9828 | Val Score: 1.0836 | LR: 0.001000\n"
     ]
    },
    {
     "name": "stderr",
     "output_type": "stream",
     "text": [
      "Epoch 8/30 [Train]: 100%|████████████████████████████████████████████████████████████| 383/383 [00:20<00:00, 19.10it/s]\n",
      "Epoch 8/30 [Val]  : 100%|████████████████████████████████████████████████████████████████| 8/8 [00:08<00:00,  1.12s/it]\n"
     ]
    },
    {
     "name": "stdout",
     "output_type": "stream",
     "text": [
      "Epoch [8/30] | Train Loss: 0.0467 | Val PSNR: 35.27 | Val SSIM: 0.9840 | Val Score: 1.1165 | LR: 0.001000\n",
      "🎉 New best model saved with score: 1.1165\n"
     ]
    },
    {
     "name": "stderr",
     "output_type": "stream",
     "text": [
      "Epoch 9/30 [Train]: 100%|████████████████████████████████████████████████████████████| 383/383 [00:19<00:00, 19.23it/s]\n",
      "Epoch 9/30 [Val]  : 100%|████████████████████████████████████████████████████████████████| 8/8 [00:08<00:00,  1.09s/it]\n"
     ]
    },
    {
     "name": "stdout",
     "output_type": "stream",
     "text": [
      "Epoch [9/30] | Train Loss: 0.0460 | Val PSNR: 35.34 | Val SSIM: 0.9843 | Val Score: 1.1189 | LR: 0.001000\n",
      "🎉 New best model saved with score: 1.1189\n"
     ]
    },
    {
     "name": "stderr",
     "output_type": "stream",
     "text": [
      "Epoch 10/30 [Train]: 100%|███████████████████████████████████████████████████████████| 383/383 [00:19<00:00, 19.23it/s]\n",
      "Epoch 10/30 [Val]  : 100%|███████████████████████████████████████████████████████████████| 8/8 [00:08<00:00,  1.09s/it]\n"
     ]
    },
    {
     "name": "stdout",
     "output_type": "stream",
     "text": [
      "Epoch [10/30] | Train Loss: 0.0456 | Val PSNR: 35.30 | Val SSIM: 0.9841 | Val Score: 1.1175 | LR: 0.000100\n"
     ]
    },
    {
     "name": "stderr",
     "output_type": "stream",
     "text": [
      "Epoch 11/30 [Train]: 100%|███████████████████████████████████████████████████████████| 383/383 [00:19<00:00, 19.49it/s]\n",
      "Epoch 11/30 [Val]  : 100%|███████████████████████████████████████████████████████████████| 8/8 [00:08<00:00,  1.08s/it]\n"
     ]
    },
    {
     "name": "stdout",
     "output_type": "stream",
     "text": [
      "Epoch [11/30] | Train Loss: 0.0433 | Val PSNR: 36.30 | Val SSIM: 0.9850 | Val Score: 1.1457 | LR: 0.000100\n",
      "🎉 New best model saved with score: 1.1457\n"
     ]
    },
    {
     "name": "stderr",
     "output_type": "stream",
     "text": [
      "Epoch 12/30 [Train]: 100%|███████████████████████████████████████████████████████████| 383/383 [00:19<00:00, 19.21it/s]\n",
      "Epoch 12/30 [Val]  : 100%|███████████████████████████████████████████████████████████████| 8/8 [00:08<00:00,  1.09s/it]\n"
     ]
    },
    {
     "name": "stdout",
     "output_type": "stream",
     "text": [
      "Epoch [12/30] | Train Loss: 0.0427 | Val PSNR: 36.16 | Val SSIM: 0.9850 | Val Score: 1.1417 | LR: 0.000100\n"
     ]
    },
    {
     "name": "stderr",
     "output_type": "stream",
     "text": [
      "Epoch 13/30 [Train]: 100%|███████████████████████████████████████████████████████████| 383/383 [00:19<00:00, 19.20it/s]\n",
      "Epoch 13/30 [Val]  : 100%|███████████████████████████████████████████████████████████████| 8/8 [00:08<00:00,  1.08s/it]\n"
     ]
    },
    {
     "name": "stdout",
     "output_type": "stream",
     "text": [
      "Epoch [13/30] | Train Loss: 0.0425 | Val PSNR: 36.29 | Val SSIM: 0.9850 | Val Score: 1.1451 | LR: 0.000100\n"
     ]
    },
    {
     "name": "stderr",
     "output_type": "stream",
     "text": [
      "Epoch 14/30 [Train]: 100%|███████████████████████████████████████████████████████████| 383/383 [00:20<00:00, 18.99it/s]\n",
      "Epoch 14/30 [Val]  : 100%|███████████████████████████████████████████████████████████████| 8/8 [00:08<00:00,  1.08s/it]\n"
     ]
    },
    {
     "name": "stdout",
     "output_type": "stream",
     "text": [
      "Epoch [14/30] | Train Loss: 0.0422 | Val PSNR: 36.37 | Val SSIM: 0.9851 | Val Score: 1.1476 | LR: 0.000100\n",
      "🎉 New best model saved with score: 1.1476\n"
     ]
    },
    {
     "name": "stderr",
     "output_type": "stream",
     "text": [
      "Epoch 15/30 [Train]: 100%|███████████████████████████████████████████████████████████| 383/383 [00:19<00:00, 19.47it/s]\n",
      "Epoch 15/30 [Val]  : 100%|███████████████████████████████████████████████████████████████| 8/8 [00:08<00:00,  1.08s/it]\n"
     ]
    },
    {
     "name": "stdout",
     "output_type": "stream",
     "text": [
      "Epoch [15/30] | Train Loss: 0.0421 | Val PSNR: 36.35 | Val SSIM: 0.9850 | Val Score: 1.1469 | LR: 0.000100\n"
     ]
    },
    {
     "name": "stderr",
     "output_type": "stream",
     "text": [
      "Epoch 16/30 [Train]: 100%|███████████████████████████████████████████████████████████| 383/383 [00:19<00:00, 19.40it/s]\n",
      "Epoch 16/30 [Val]  : 100%|███████████████████████████████████████████████████████████████| 8/8 [00:08<00:00,  1.09s/it]\n"
     ]
    },
    {
     "name": "stdout",
     "output_type": "stream",
     "text": [
      "Epoch [16/30] | Train Loss: 0.0418 | Val PSNR: 36.34 | Val SSIM: 0.9851 | Val Score: 1.1466 | LR: 0.000100\n"
     ]
    },
    {
     "name": "stderr",
     "output_type": "stream",
     "text": [
      "Epoch 17/30 [Train]: 100%|███████████████████████████████████████████████████████████| 383/383 [00:20<00:00, 19.06it/s]\n",
      "Epoch 17/30 [Val]  : 100%|███████████████████████████████████████████████████████████████| 8/8 [00:08<00:00,  1.09s/it]\n"
     ]
    },
    {
     "name": "stdout",
     "output_type": "stream",
     "text": [
      "Epoch [17/30] | Train Loss: 0.0416 | Val PSNR: 36.24 | Val SSIM: 0.9850 | Val Score: 1.1440 | LR: 0.000100\n"
     ]
    },
    {
     "name": "stderr",
     "output_type": "stream",
     "text": [
      "Epoch 18/30 [Train]: 100%|███████████████████████████████████████████████████████████| 383/383 [00:20<00:00, 18.73it/s]\n",
      "Epoch 18/30 [Val]  : 100%|███████████████████████████████████████████████████████████████| 8/8 [00:08<00:00,  1.09s/it]\n"
     ]
    },
    {
     "name": "stdout",
     "output_type": "stream",
     "text": [
      "Epoch [18/30] | Train Loss: 0.0416 | Val PSNR: 36.31 | Val SSIM: 0.9850 | Val Score: 1.1459 | LR: 0.000100\n"
     ]
    },
    {
     "name": "stderr",
     "output_type": "stream",
     "text": [
      "Epoch 19/30 [Train]: 100%|███████████████████████████████████████████████████████████| 383/383 [00:19<00:00, 19.43it/s]\n",
      "Epoch 19/30 [Val]  : 100%|███████████████████████████████████████████████████████████████| 8/8 [00:08<00:00,  1.11s/it]\n"
     ]
    },
    {
     "name": "stdout",
     "output_type": "stream",
     "text": [
      "Epoch [19/30] | Train Loss: 0.0413 | Val PSNR: 36.43 | Val SSIM: 0.9850 | Val Score: 1.1490 | LR: 0.000100\n",
      "🎉 New best model saved with score: 1.1490\n"
     ]
    },
    {
     "name": "stderr",
     "output_type": "stream",
     "text": [
      "Epoch 20/30 [Train]: 100%|███████████████████████████████████████████████████████████| 383/383 [00:19<00:00, 19.35it/s]\n",
      "Epoch 20/30 [Val]  : 100%|███████████████████████████████████████████████████████████████| 8/8 [00:08<00:00,  1.09s/it]\n"
     ]
    },
    {
     "name": "stdout",
     "output_type": "stream",
     "text": [
      "Epoch [20/30] | Train Loss: 0.0412 | Val PSNR: 36.28 | Val SSIM: 0.9849 | Val Score: 1.1447 | LR: 0.000010\n"
     ]
    },
    {
     "name": "stderr",
     "output_type": "stream",
     "text": [
      "Epoch 21/30 [Train]: 100%|███████████████████████████████████████████████████████████| 383/383 [00:19<00:00, 19.32it/s]\n",
      "Epoch 21/30 [Val]  : 100%|███████████████████████████████████████████████████████████████| 8/8 [00:08<00:00,  1.09s/it]\n"
     ]
    },
    {
     "name": "stdout",
     "output_type": "stream",
     "text": [
      "Epoch [21/30] | Train Loss: 0.0407 | Val PSNR: 36.48 | Val SSIM: 0.9850 | Val Score: 1.1502 | LR: 0.000010\n",
      "🎉 New best model saved with score: 1.1502\n"
     ]
    },
    {
     "name": "stderr",
     "output_type": "stream",
     "text": [
      "Epoch 22/30 [Train]: 100%|███████████████████████████████████████████████████████████| 383/383 [00:19<00:00, 19.45it/s]\n",
      "Epoch 22/30 [Val]  : 100%|███████████████████████████████████████████████████████████████| 8/8 [00:08<00:00,  1.11s/it]\n"
     ]
    },
    {
     "name": "stdout",
     "output_type": "stream",
     "text": [
      "Epoch [22/30] | Train Loss: 0.0406 | Val PSNR: 36.46 | Val SSIM: 0.9850 | Val Score: 1.1498 | LR: 0.000010\n"
     ]
    },
    {
     "name": "stderr",
     "output_type": "stream",
     "text": [
      "Epoch 23/30 [Train]: 100%|███████████████████████████████████████████████████████████| 383/383 [00:19<00:00, 19.33it/s]\n",
      "Epoch 23/30 [Val]  : 100%|███████████████████████████████████████████████████████████████| 8/8 [00:08<00:00,  1.11s/it]\n"
     ]
    },
    {
     "name": "stdout",
     "output_type": "stream",
     "text": [
      "Epoch [23/30] | Train Loss: 0.0406 | Val PSNR: 36.50 | Val SSIM: 0.9850 | Val Score: 1.1507 | LR: 0.000010\n",
      "🎉 New best model saved with score: 1.1507\n"
     ]
    },
    {
     "name": "stderr",
     "output_type": "stream",
     "text": [
      "Epoch 24/30 [Train]: 100%|███████████████████████████████████████████████████████████| 383/383 [00:19<00:00, 19.29it/s]\n",
      "Epoch 24/30 [Val]  : 100%|███████████████████████████████████████████████████████████████| 8/8 [00:08<00:00,  1.08s/it]\n"
     ]
    },
    {
     "name": "stdout",
     "output_type": "stream",
     "text": [
      "Epoch [24/30] | Train Loss: 0.0406 | Val PSNR: 36.50 | Val SSIM: 0.9850 | Val Score: 1.1507 | LR: 0.000010\n",
      "🎉 New best model saved with score: 1.1507\n"
     ]
    },
    {
     "name": "stderr",
     "output_type": "stream",
     "text": [
      "Epoch 25/30 [Train]: 100%|███████████████████████████████████████████████████████████| 383/383 [00:19<00:00, 19.48it/s]\n",
      "Epoch 25/30 [Val]  : 100%|███████████████████████████████████████████████████████████████| 8/8 [00:08<00:00,  1.11s/it]\n"
     ]
    },
    {
     "name": "stdout",
     "output_type": "stream",
     "text": [
      "Epoch [25/30] | Train Loss: 0.0405 | Val PSNR: 36.49 | Val SSIM: 0.9850 | Val Score: 1.1504 | LR: 0.000010\n"
     ]
    },
    {
     "name": "stderr",
     "output_type": "stream",
     "text": [
      "Epoch 26/30 [Train]: 100%|███████████████████████████████████████████████████████████| 383/383 [00:19<00:00, 19.47it/s]\n",
      "Epoch 26/30 [Val]  : 100%|███████████████████████████████████████████████████████████████| 8/8 [00:08<00:00,  1.08s/it]\n"
     ]
    },
    {
     "name": "stdout",
     "output_type": "stream",
     "text": [
      "Epoch [26/30] | Train Loss: 0.0405 | Val PSNR: 36.50 | Val SSIM: 0.9850 | Val Score: 1.1507 | LR: 0.000010\n"
     ]
    },
    {
     "name": "stderr",
     "output_type": "stream",
     "text": [
      "Epoch 27/30 [Train]: 100%|███████████████████████████████████████████████████████████| 383/383 [00:19<00:00, 19.46it/s]\n",
      "Epoch 27/30 [Val]  : 100%|███████████████████████████████████████████████████████████████| 8/8 [00:08<00:00,  1.10s/it]\n"
     ]
    },
    {
     "name": "stdout",
     "output_type": "stream",
     "text": [
      "Epoch [27/30] | Train Loss: 0.0405 | Val PSNR: 36.45 | Val SSIM: 0.9850 | Val Score: 1.1495 | LR: 0.000010\n"
     ]
    },
    {
     "name": "stderr",
     "output_type": "stream",
     "text": [
      "Epoch 28/30 [Train]: 100%|███████████████████████████████████████████████████████████| 383/383 [00:19<00:00, 19.32it/s]\n",
      "Epoch 28/30 [Val]  : 100%|███████████████████████████████████████████████████████████████| 8/8 [00:08<00:00,  1.08s/it]\n"
     ]
    },
    {
     "name": "stdout",
     "output_type": "stream",
     "text": [
      "Epoch [28/30] | Train Loss: 0.0405 | Val PSNR: 36.47 | Val SSIM: 0.9850 | Val Score: 1.1500 | LR: 0.000010\n"
     ]
    },
    {
     "name": "stderr",
     "output_type": "stream",
     "text": [
      "Epoch 29/30 [Train]: 100%|███████████████████████████████████████████████████████████| 383/383 [00:19<00:00, 19.45it/s]\n",
      "Epoch 29/30 [Val]  : 100%|███████████████████████████████████████████████████████████████| 8/8 [00:08<00:00,  1.02s/it]\n"
     ]
    },
    {
     "name": "stdout",
     "output_type": "stream",
     "text": [
      "Epoch [29/30] | Train Loss: 0.0404 | Val PSNR: 36.48 | Val SSIM: 0.9850 | Val Score: 1.1503 | LR: 0.000010\n"
     ]
    },
    {
     "name": "stderr",
     "output_type": "stream",
     "text": [
      "Epoch 30/30 [Train]: 100%|███████████████████████████████████████████████████████████| 383/383 [00:19<00:00, 19.35it/s]\n",
      "Epoch 30/30 [Val]  : 100%|███████████████████████████████████████████████████████████████| 8/8 [00:08<00:00,  1.09s/it]\n"
     ]
    },
    {
     "name": "stdout",
     "output_type": "stream",
     "text": [
      "Epoch [30/30] | Train Loss: 0.0404 | Val PSNR: 36.44 | Val SSIM: 0.9850 | Val Score: 1.1492 | LR: 0.000001\n",
      "Training finished. Loading best model for inference...\n"
     ]
    },
    {
     "name": "stderr",
     "output_type": "stream",
     "text": [
      "Generating submission.csv: 100%|█████████████████████████████████████████████████████████| 8/8 [00:00<00:00,  9.88it/s]\n"
     ]
    },
    {
     "name": "stdout",
     "output_type": "stream",
     "text": [
      "submission.csv saved successfully.\n",
      "Saving denoising results visualization to 'denoising_results.png'...\n",
      "Script execution complete.\n"
     ]
    }
   ],
   "source": [
    "import os\n",
    "import torch\n",
    "import pandas as pd\n",
    "from train import train\n",
    "from inference import inference\n",
    "from dataset import dataloader\n",
    "from model import UNet\n",
    "from visual import visual_dataset, visual_results\n",
    "\n",
    "batch_size = 128\n",
    "learning_rate = 0.001\n",
    "num_epochs = 30\n",
    "cuda = 0\n",
    "device = torch.device(f\"cuda:{cuda}\" if torch.cuda.is_available() else \"cpu\")\n",
    "\n",
    "if __name__ == \"__main__\":\n",
    "    train_loader, val_loader, test_loader = dataloader(batch_size)\n",
    "    print(\"Saving dataset examples visualization to 'dataset_examples.png'...\")\n",
    "    visual_dataset(train_loader)\n",
    "    print(\"Starting model training...\")\n",
    "    model = UNet().to(device)\n",
    "    # 训练模型\n",
    "    train(model, device, num_epochs, learning_rate, train_loader, val_loader)\n",
    "    # 验证模型\n",
    "    model.eval()\n",
    "    example_noisy, example_output, submission_data = inference(\n",
    "        model,\n",
    "        device,\n",
    "        test_loader,\n",
    "        batch_size,\n",
    "    )\n",
    "    os.makedirs(\"result\", exist_ok=True)\n",
    "    submission_df = pd.DataFrame(submission_data)\n",
    "    submission_df.to_csv(\"./result/submission.csv\", index=False)\n",
    "    print(\"submission.csv saved successfully.\")\n",
    "    print(\"Saving denoising results visualization to 'denoising_results.png'...\")\n",
    "    visual_results(example_noisy, example_output)\n",
    "    print(\"Script execution complete.\")\n"
   ]
  },
  {
   "cell_type": "code",
   "execution_count": null,
   "id": "284208e3-23e0-43a2-8a9e-bfd0cd853708",
   "metadata": {},
   "outputs": [],
   "source": []
  }
 ],
 "metadata": {
  "kernelspec": {
   "display_name": "Python 3 (ipykernel)",
   "language": "python",
   "name": "python3"
  },
  "language_info": {
   "codemirror_mode": {
    "name": "ipython",
    "version": 3
   },
   "file_extension": ".py",
   "mimetype": "text/x-python",
   "name": "python",
   "nbconvert_exporter": "python",
   "pygments_lexer": "ipython3",
   "version": "3.13.2"
  }
 },
 "nbformat": 4,
 "nbformat_minor": 5
}
