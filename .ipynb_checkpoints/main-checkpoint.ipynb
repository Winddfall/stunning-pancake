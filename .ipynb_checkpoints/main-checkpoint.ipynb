{
 "cells": [
  {
   "cell_type": "code",
   "execution_count": 1,
   "id": "a65be1c6-bc8c-4ed5-8273-a8b1c17edb38",
   "metadata": {},
   "outputs": [
    {
     "ename": "ModuleNotFoundError",
     "evalue": "No module named 'torch'",
     "output_type": "error",
     "traceback": [
      "\u001b[1;31m---------------------------------------------------------------------------\u001b[0m",
      "\u001b[1;31mModuleNotFoundError\u001b[0m                       Traceback (most recent call last)",
      "Cell \u001b[1;32mIn[1], line 2\u001b[0m\n\u001b[0;32m      1\u001b[0m \u001b[38;5;28;01mimport\u001b[39;00m \u001b[38;5;21;01mos\u001b[39;00m\n\u001b[1;32m----> 2\u001b[0m \u001b[38;5;28;01mimport\u001b[39;00m \u001b[38;5;21;01mtorch\u001b[39;00m\n\u001b[0;32m      3\u001b[0m \u001b[38;5;28;01mimport\u001b[39;00m \u001b[38;5;21;01mpandas\u001b[39;00m \u001b[38;5;28;01mas\u001b[39;00m \u001b[38;5;21;01mpd\u001b[39;00m\n\u001b[0;32m      4\u001b[0m \u001b[38;5;28;01mfrom\u001b[39;00m \u001b[38;5;21;01mtrain\u001b[39;00m \u001b[38;5;28;01mimport\u001b[39;00m train\n",
      "\u001b[1;31mModuleNotFoundError\u001b[0m: No module named 'torch'"
     ]
    }
   ],
   "source": [
    "import os\n",
    "import torch\n",
    "import pandas as pd\n",
    "from train import train\n",
    "from inference import inference\n",
    "from dataset import dataloader\n",
    "from model import UNet\n",
    "from visual import visual_dataset, visual_results\n",
    "\n",
    "batch_size = 256\n",
    "learning_rate = 0.001\n",
    "num_epochs = 50\n",
    "cuda = 0\n",
    "device = torch.device(f\"cuda:{cuda}\" if torch.cuda.is_available() else \"cpu\")\n",
    "\n",
    "if __name__ == \"__main__\":\n",
    "    print(\"...\")\n",
    "    train_loader, val_loader, test_loader = dataloader(batch_size)\n",
    "    print(\"Saving dataset examples visualization to 'dataset_examples.png'...\")\n",
    "    visual_dataset(train_loader)\n",
    "    print(\"Starting model training...\")\n",
    "    model = create_ori_unet()\n",
    "    # 训练模型\n",
    "    train(model, device, num_epochs, learning_rate, train_loader, val_loader)\n",
    "    # 验证模型\n",
    "    model.eval()\n",
    "    example_noisy, example_output, submission_data = inference(\n",
    "        model,\n",
    "        device,\n",
    "        test_loader,\n",
    "        batch_size,\n",
    "    )\n",
    "    os.makedirs(\"result\", exist_ok=True)\n",
    "    submission_df = pd.DataFrame(submission_data)\n",
    "    submission_df.to_csv(\"./result/submission.csv\", index=False)\n",
    "    print(\"submission.csv saved successfully.\")\n",
    "    print(\"Saving denoising results visualization to 'denoising_results.png'...\")\n",
    "    visual_results(example_noisy, example_output)\n",
    "    print(\"Script execution complete.\")\n"
   ]
  },
  {
   "cell_type": "code",
   "execution_count": null,
   "id": "6eb1e445-a066-4368-b246-76cd38f1fb2c",
   "metadata": {},
   "outputs": [],
   "source": []
  }
 ],
 "metadata": {
  "kernelspec": {
   "display_name": "Python 3 (ipykernel)",
   "language": "python",
   "name": "python3"
  },
  "language_info": {
   "codemirror_mode": {
    "name": "ipython",
    "version": 3
   },
   "file_extension": ".py",
   "mimetype": "text/x-python",
   "name": "python",
   "nbconvert_exporter": "python",
   "pygments_lexer": "ipython3",
   "version": "3.12.7"
  }
 },
 "nbformat": 4,
 "nbformat_minor": 5
}
